{
 "metadata": {
  "name": "",
  "signature": "sha256:ffc577886e355151ac310363799c9bfcaa025587b9a70a1664816a7543aa0d04"
 },
 "nbformat": 3,
 "nbformat_minor": 0,
 "worksheets": [
  {
   "cells": [
    {
     "cell_type": "code",
     "collapsed": false,
     "input": [
      "# Copyright 2006-2014 Coppelia Robotics GmbH. All rights reserved.\n",
      "# marc@coppeliarobotics.com\n",
      "# www.coppeliarobotics.com\n",
      "# \n",
      "# -------------------------------------------------------------------\n",
      "# THIS FILE IS DISTRIBUTED \"AS IS\", WITHOUT ANY EXPRESS OR IMPLIED\n",
      "# WARRANTY. THE USER WILL USE IT AT HIS/HER OWN RISK. THE ORIGINAL\n",
      "# AUTHORS AND COPPELIA ROBOTICS GMBH WILL NOT BE LIABLE FOR DATA LOSS,\n",
      "# DAMAGES, LOSS OF PROFITS OR ANY OTHER KIND OF LOSS WHILE USING OR\n",
      "# MISUSING THIS SOFTWARE.\n",
      "# \n",
      "# You are free to use/modify/distribute this file for whatever purpose!\n",
      "# -------------------------------------------------------------------\n",
      "#\n",
      "# This file was automatically created for V-REP release V3.2.0 on Feb. 3rd 2015\n",
      "\n",
      "# Make sure to have the server side running in V-REP: \n",
      "# in a child script of a V-REP scene, add following command\n",
      "# to be executed just once, at simulation start:\n",
      "#\n",
      "# simExtRemoteApiStart(19999)\n",
      "#\n",
      "# then start simulation, and run this program.\n",
      "#\n",
      "# IMPORTANT: for each successful call to simxStart, there\n",
      "# should be a corresponding call to simxFinish at the end!"
     ],
     "language": "python",
     "metadata": {},
     "outputs": []
    },
    {
     "cell_type": "code",
     "collapsed": false,
     "input": [
      "import vrep\n",
      "\n",
      "print ('Program started')\n",
      "vrep.simxFinish(-1) # just in case, close all opened connections\n",
      "clientID=vrep.simxStart('127.0.0.1',19997,True,True,5000,5)\n",
      "clientID"
     ],
     "language": "python",
     "metadata": {},
     "outputs": [
      {
       "output_type": "stream",
       "stream": "stdout",
       "text": [
        "Program started\n"
       ]
      },
      {
       "metadata": {},
       "output_type": "pyout",
       "prompt_number": 1,
       "text": [
        "0"
       ]
      }
     ],
     "prompt_number": 1
    },
    {
     "cell_type": "code",
     "collapsed": false,
     "input": [
      "import vrep"
     ],
     "language": "python",
     "metadata": {},
     "outputs": [],
     "prompt_number": 1
    },
    {
     "cell_type": "code",
     "collapsed": false,
     "input": [
      "clientID=vrep.simxStart('127.0.0.1',19997,True,True,5000,5)\n",
      "clientID"
     ],
     "language": "python",
     "metadata": {},
     "outputs": [
      {
       "metadata": {},
       "output_type": "pyout",
       "prompt_number": 2,
       "text": [
        "0"
       ]
      }
     ],
     "prompt_number": 2
    },
    {
     "cell_type": "code",
     "collapsed": false,
     "input": [
      "res,objs=vrep.simxGetObjects(clientID,\n",
      "                             vrep.sim_handle_all,\n",
      "                             vrep.simx_opmode_oneshot_wait)\n",
      "res, objs"
     ],
     "language": "python",
     "metadata": {},
     "outputs": [
      {
       "metadata": {},
       "output_type": "pyout",
       "prompt_number": 3,
       "text": [
        "(3, [])"
       ]
      }
     ],
     "prompt_number": 3
    },
    {
     "cell_type": "code",
     "collapsed": false,
     "input": [],
     "language": "python",
     "metadata": {},
     "outputs": []
    },
    {
     "cell_type": "code",
     "collapsed": false,
     "input": [],
     "language": "python",
     "metadata": {},
     "outputs": [
      {
       "output_type": "stream",
       "stream": "stdout",
       "text": [
        "Program started\n",
        "Connected to remote API server\n",
        "('Number of objects in the scene: ', 47)"
       ]
      },
      {
       "output_type": "stream",
       "stream": "stdout",
       "text": [
        "\n",
        "Program ended"
       ]
      },
      {
       "output_type": "stream",
       "stream": "stdout",
       "text": [
        "\n"
       ]
      }
     ],
     "prompt_number": 4
    },
    {
     "cell_type": "code",
     "collapsed": false,
     "input": [],
     "language": "python",
     "metadata": {},
     "outputs": []
    }
   ],
   "metadata": {}
  }
 ]
}