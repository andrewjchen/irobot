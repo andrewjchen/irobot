{
 "metadata": {
  "name": "",
  "signature": "sha256:77a2779b08b932e9515fdd2f1664bf204d3360fd914a77ab50e49e2cc209ca84"
 },
 "nbformat": 3,
 "nbformat_minor": 0,
 "worksheets": [
  {
   "cells": [
    {
     "cell_type": "heading",
     "level": 3,
     "metadata": {},
     "source": [
      "API"
     ]
    },
    {
     "cell_type": "markdown",
     "metadata": {},
     "source": [
      "* Capabilities:\n",
      "    * Get Pose:\n",
      "        * Body\n",
      "        * Flashlight Head\n",
      "        * Beacons\n",
      "    * Set Target Position:\n",
      "        * Flashlight Head\n",
      "    * Set Joint Velocity:\n",
      "        * Drivetrain\n",
      "    * Get Image\n",
      "        * line scan camera"
     ]
    },
    {
     "cell_type": "code",
     "collapsed": false,
     "input": [
      "import vrep"
     ],
     "language": "python",
     "metadata": {},
     "outputs": [],
     "prompt_number": 2
    },
    {
     "cell_type": "code",
     "collapsed": false,
     "input": [
      "clientID=vrep.simxStart('127.0.0.1',19997,True,True,5000,5)\n",
      "clientID"
     ],
     "language": "python",
     "metadata": {},
     "outputs": [
      {
       "metadata": {},
       "output_type": "pyout",
       "prompt_number": 3,
       "text": [
        "0"
       ]
      }
     ],
     "prompt_number": 3
    },
    {
     "cell_type": "code",
     "collapsed": false,
     "input": [
      "res,objs=vrep.simxGetObjects(clientID,\n",
      "                             vrep.sim_handle_all,\n",
      "                             vrep.simx_opmode_oneshot_wait)\n",
      "# res, objs"
     ],
     "language": "python",
     "metadata": {},
     "outputs": [],
     "prompt_number": 4
    },
    {
     "cell_type": "heading",
     "level": 4,
     "metadata": {},
     "source": [
      "Line scan camera"
     ]
    },
    {
     "cell_type": "code",
     "collapsed": false,
     "input": [
      "errcode, handle = vrep.simxGetObjectHandle(clientID,\n",
      "                                           'Vision_sensor',\n",
      "                                           vrep.simx_opmode_oneshot_wait)\n",
      "handle"
     ],
     "language": "python",
     "metadata": {},
     "outputs": [
      {
       "metadata": {},
       "output_type": "pyout",
       "prompt_number": 5,
       "text": [
        "0"
       ]
      }
     ],
     "prompt_number": 5
    },
    {
     "cell_type": "code",
     "collapsed": false,
     "input": [
      "%%timeit\n",
      "errorcode, res, image = vrep.simxGetVisionSensorImage(clientID,\n",
      "                              handle,\n",
      "                              0,\n",
      "                              vrep.simx_opmode_streaming)"
     ],
     "language": "python",
     "metadata": {},
     "outputs": [
      {
       "output_type": "stream",
       "stream": "stdout",
       "text": [
        "100000 loops, best of 3: 5.27 \u00b5s per loop\n"
       ]
      }
     ],
     "prompt_number": 6
    },
    {
     "cell_type": "heading",
     "level": 4,
     "metadata": {},
     "source": [
      "Object Position"
     ]
    },
    {
     "cell_type": "code",
     "collapsed": false,
     "input": [
      "%%timeit\n",
      "ec, pos = vrep.simxGetObjectPosition(clientID, handle, -1, vrep.simx_opmode_streaming)"
     ],
     "language": "python",
     "metadata": {},
     "outputs": [
      {
       "output_type": "stream",
       "stream": "stdout",
       "text": [
        "100000 loops, best of 3: 5.04 \u00b5s per loop\n"
       ]
      }
     ],
     "prompt_number": 7
    },
    {
     "cell_type": "heading",
     "level": 4,
     "metadata": {},
     "source": [
      "Object Orientation"
     ]
    },
    {
     "cell_type": "code",
     "collapsed": false,
     "input": [
      "%%timeit\n",
      "ec, orientation = vrep.simxGetObjectOrientation(clientID, handle, -1, vrep.simx_opmode_streaming)"
     ],
     "language": "python",
     "metadata": {},
     "outputs": [
      {
       "output_type": "stream",
       "stream": "stdout",
       "text": [
        "100000 loops, best of 3: 5.15 \u00b5s per loop\n"
       ]
      }
     ],
     "prompt_number": 12
    },
    {
     "cell_type": "code",
     "collapsed": false,
     "input": [
      "ec, orientation = vrep.simxGetObjectOrientation(clientID, handle, -1, vrep.simx_opmode_streaming)"
     ],
     "language": "python",
     "metadata": {},
     "outputs": [],
     "prompt_number": 15
    },
    {
     "cell_type": "code",
     "collapsed": false,
     "input": [
      "orientation"
     ],
     "language": "python",
     "metadata": {},
     "outputs": [
      {
       "metadata": {},
       "output_type": "pyout",
       "prompt_number": 16,
       "text": [
        "[3.1028072834014893, 0.5005983710289001, -1.490120530128479]"
       ]
      }
     ],
     "prompt_number": 16
    },
    {
     "cell_type": "heading",
     "level": 4,
     "metadata": {},
     "source": [
      "Set Joint Position"
     ]
    },
    {
     "cell_type": "code",
     "collapsed": false,
     "input": [
      "errcode, handle = vrep.simxGetObjectHandle(clientID,\n",
      "                                           'Neck',\n",
      "                                           vrep.simx_opmode_oneshot_wait)\n",
      "handle"
     ],
     "language": "python",
     "metadata": {},
     "outputs": [
      {
       "metadata": {},
       "output_type": "pyout",
       "prompt_number": 19,
       "text": [
        "15"
       ]
      }
     ],
     "prompt_number": 19
    },
    {
     "cell_type": "code",
     "collapsed": false,
     "input": [
      "import math"
     ],
     "language": "python",
     "metadata": {},
     "outputs": [],
     "prompt_number": 22
    },
    {
     "cell_type": "code",
     "collapsed": false,
     "input": [
      "vrep.simxSetJointTargetPosition(clientID,\n",
      "                                handle,\n",
      "                                -math.pi/2,\n",
      "                                vrep.simx_opmode_streaming)"
     ],
     "language": "python",
     "metadata": {},
     "outputs": [
      {
       "metadata": {},
       "output_type": "pyout",
       "prompt_number": 25,
       "text": [
        "0"
       ]
      }
     ],
     "prompt_number": 25
    },
    {
     "cell_type": "heading",
     "level": 4,
     "metadata": {},
     "source": [
      "Set Joint Velocity"
     ]
    },
    {
     "cell_type": "code",
     "collapsed": false,
     "input": [
      "errcode, handle = vrep.simxGetObjectHandle(clientID,\n",
      "                                           'leftMotor0',\n",
      "                                           vrep.simx_opmode_oneshot_wait)\n",
      "handle"
     ],
     "language": "python",
     "metadata": {},
     "outputs": [
      {
       "ename": "NameError",
       "evalue": "name 'vrep' is not defined",
       "output_type": "pyerr",
       "traceback": [
        "\u001b[1;31m---------------------------------------------------------------------------\u001b[0m\n\u001b[1;31mNameError\u001b[0m                                 Traceback (most recent call last)",
        "\u001b[1;32m<ipython-input-1-e496fca19d0c>\u001b[0m in \u001b[0;36m<module>\u001b[1;34m()\u001b[0m\n\u001b[1;32m----> 1\u001b[1;33m errcode, handle = vrep.simxGetObjectHandle(clientID,\n\u001b[0m\u001b[0;32m      2\u001b[0m                                            \u001b[1;34m'leftMotor0'\u001b[0m\u001b[1;33m,\u001b[0m\u001b[1;33m\u001b[0m\u001b[0m\n\u001b[0;32m      3\u001b[0m                                            vrep.simx_opmode_oneshot_wait)\n\u001b[0;32m      4\u001b[0m \u001b[0mhandle\u001b[0m\u001b[1;33m\u001b[0m\u001b[0m\n",
        "\u001b[1;31mNameError\u001b[0m: name 'vrep' is not defined"
       ]
      }
     ],
     "prompt_number": 1
    },
    {
     "cell_type": "code",
     "collapsed": false,
     "input": [
      "vrep.simxSetJointTargetVelocity(clientID,\n",
      "                                handle,\n",
      "                                0,\n",
      "                                vrep.simx_opmode_oneshot)"
     ],
     "language": "python",
     "metadata": {},
     "outputs": [
      {
       "metadata": {},
       "output_type": "pyout",
       "prompt_number": 48,
       "text": [
        "0"
       ]
      }
     ],
     "prompt_number": 48
    },
    {
     "cell_type": "code",
     "collapsed": false,
     "input": [],
     "language": "python",
     "metadata": {},
     "outputs": []
    }
   ],
   "metadata": {}
  }
 ]
}