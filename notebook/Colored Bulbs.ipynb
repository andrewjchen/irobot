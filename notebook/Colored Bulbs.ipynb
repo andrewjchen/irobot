{
 "metadata": {
  "name": "",
  "signature": "sha256:5ee83d3886696065bad006a4690e829018701e713c7d581dcb6b4595799f3c74"
 },
 "nbformat": 3,
 "nbformat_minor": 0,
 "worksheets": [
  {
   "cells": [
    {
     "cell_type": "markdown",
     "metadata": {},
     "source": [
      "### Steer the flashlight, and see bulbs change color on the V-REP scene."
     ]
    },
    {
     "cell_type": "markdown",
     "metadata": {},
     "source": [
      "##### First: make bulbs change color."
     ]
    },
    {
     "cell_type": "code",
     "collapsed": false,
     "input": [
      "%pylab inline\n",
      "import rospy, tf\n",
      "import vrep_common.srv\n",
      "import geometry_msgs.msg, std_msgs.msg\n",
      "import time\n",
      "import matplotlib.pyplot as plt\n",
      "import pylab\n",
      "import numpy as np"
     ],
     "language": "python",
     "metadata": {},
     "outputs": [
      {
       "output_type": "stream",
       "stream": "stdout",
       "text": [
        "Populating the interactive namespace from numpy and matplotlib\n"
       ]
      }
     ],
     "prompt_number": 1
    },
    {
     "cell_type": "code",
     "collapsed": false,
     "input": [
      "rospy.init_node('colored_bulbs')"
     ],
     "language": "python",
     "metadata": {},
     "outputs": [],
     "prompt_number": 2
    },
    {
     "cell_type": "code",
     "collapsed": false,
     "input": [
      "srv = rospy.ServiceProxy('/vrep/simRosSetFloatSignal', vrep_common.srv.simRosSetFloatSignal)"
     ],
     "language": "python",
     "metadata": {},
     "outputs": [],
     "prompt_number": 3
    },
    {
     "cell_type": "code",
     "collapsed": false,
     "input": [
      "srv('/sphere0/color/r', 100)\n",
      "srv('/sphere0/color/g', 100)\n",
      "srv('/sphere0/color/b', 100)"
     ],
     "language": "python",
     "metadata": {},
     "outputs": [
      {
       "metadata": {},
       "output_type": "pyout",
       "prompt_number": 20,
       "text": [
        "result: 1"
       ]
      }
     ],
     "prompt_number": 20
    },
    {
     "cell_type": "markdown",
     "metadata": {},
     "source": [
      "##### Next: flashlight model"
     ]
    },
    {
     "cell_type": "code",
     "collapsed": false,
     "input": [
      "class Light:\n",
      "    listener=tf.TransformListener()\n",
      "    def __init__(self, frame_id, cone_h=10.0, cone_r=10.0):\n",
      "        self.frame_id = frame_id\n",
      "        self.cone_h = cone_h\n",
      "        self.cone_r = cone_r\n",
      "        \n",
      "    def lightval(self, pt):\n",
      "        headtrans, headrot = Light.listener.lookupTransform(\n",
      "                            '/world', self.frame_id, rospy.Time(0))\n",
      "        \n",
      "        headmat = Light.listener.fromTranslationRotation(headtrans, headrot)\n",
      "        point0= headmat * np.matrix([[0, 0, 0, 1]]).T\n",
      "        direction_vector = headmat * np.matrix([[1, 0, 0, 1]]).T - point0\n",
      "        \n",
      "        dummypos_vect = np.matrix([[pt[0], pt[1], pt[2], 1]]).T\n",
      "       \n",
      "        dist = np.dot(direction_vector.A1, dummypos_vect.A1)\n",
      "        dist_vect = dist * direction_vector\n",
      "        \n",
      "        radius_at_point = (dist / self.cone_h) * self.cone_r\n",
      "        \n",
      "        rel_vect = dummypos_vect - point0\n",
      "        to_get_distance = (rel_vect - dist_vect).A1\n",
      "        ortho_dist = np.sqrt(np.dot(to_get_distance, to_get_distance))\n",
      "        light = radius_at_point - ortho_dist\n",
      "        return 0 if light <=0 else light\n",
      "        "
     ],
     "language": "python",
     "metadata": {},
     "outputs": [],
     "prompt_number": 4
    },
    {
     "cell_type": "code",
     "collapsed": false,
     "input": [
      "l = Light('/head0', 20., 10.)\n",
      "xs = np.linspace(-1.0, 1.0, 100)\n",
      "ys = np.linspace(-1.0, 1.0, 100)\n",
      "img=np.ndarray(shape=(len(ys), len(xs)), dtype=float)\n",
      "for i in xrange(len(xs)):\n",
      "    for j in xrange(len(ys)):\n",
      "        x = xs[i]\n",
      "        y = ys[j]\n",
      "        img[i][j] = l.lightval((x,y,0))\n",
      "plt.imshow(img)\n",
      "plt.colorbar()"
     ],
     "language": "python",
     "metadata": {},
     "outputs": [
      {
       "metadata": {},
       "output_type": "pyout",
       "prompt_number": 5,
       "text": [
        "<matplotlib.colorbar.Colorbar instance at 0x7f5568f426c8>"
       ]
      },
      {
       "metadata": {},
       "output_type": "display_data",
       "png": "[encoded data removed]",
       "text": [
        "<matplotlib.figure.Figure at 0x7f55685beed0>"
       ]
      }
     ],
     "prompt_number": 5
    },
    {
     "cell_type": "code",
     "collapsed": false,
     "input": [
      "class Sphere:\n",
      "    srv = rospy.ServiceProxy('/vrep/simRosSetFloatSignal', vrep_common.srv.simRosSetFloatSignal)\n",
      "    listener=tf.TransformListener()\n",
      "    \n",
      "    def __init__(self, sid):\n",
      "        self.sid=sid\n",
      "        self.frame_id='/sphere{0}'.format(sid)\n",
      "        self.r_sig='/sphere{0}/color/r'.format(sid)\n",
      "        self.g_sig='/sphere{0}/color/g'.format(sid)\n",
      "        self.b_sig='/sphere{0}/color/b'.format(sid)\n",
      "        \n",
      "    def set_color(self, r, g, b):\n",
      "        Sphere.srv(self.r_sig, r)\n",
      "        Sphere.srv(self.g_sig, g)\n",
      "        Sphere.srv(self.b_sig, b)\n",
      "\n",
      "    def get_position(self):\n",
      "        trans, rot = Sphere.listener.lookupTransform(\n",
      "                            '/world', self.frame_id, rospy.Time(0))\n",
      "        return trans"
     ],
     "language": "python",
     "metadata": {},
     "outputs": [],
     "prompt_number": 6
    },
    {
     "cell_type": "code",
     "collapsed": false,
     "input": [
      "s = Sphere(0)"
     ],
     "language": "python",
     "metadata": {},
     "outputs": [],
     "prompt_number": 7
    },
    {
     "cell_type": "code",
     "collapsed": false,
     "input": [
      "s.set_color(100,0,0)"
     ],
     "language": "python",
     "metadata": {},
     "outputs": [],
     "prompt_number": 8
    },
    {
     "cell_type": "code",
     "collapsed": false,
     "input": [
      "s.get_position()"
     ],
     "language": "python",
     "metadata": {},
     "outputs": [
      {
       "metadata": {},
       "output_type": "pyout",
       "prompt_number": 9,
       "text": [
        "(0.6229458451271057, 0.3706493079662323, 0.04999992251396179)"
       ]
      }
     ],
     "prompt_number": 9
    },
    {
     "cell_type": "code",
     "collapsed": false,
     "input": [
      "l.lightval(_34)"
     ],
     "language": "python",
     "metadata": {},
     "outputs": [
      {
       "ename": "NameError",
       "evalue": "name '_34' is not defined",
       "output_type": "pyerr",
       "traceback": [
        "\u001b[1;31m---------------------------------------------------------------------------\u001b[0m\n\u001b[1;31mNameError\u001b[0m                                 Traceback (most recent call last)",
        "\u001b[1;32m<ipython-input-10-073be6084ad8>\u001b[0m in \u001b[0;36m<module>\u001b[1;34m()\u001b[0m\n\u001b[1;32m----> 1\u001b[1;33m \u001b[0ml\u001b[0m\u001b[1;33m.\u001b[0m\u001b[0mlightval\u001b[0m\u001b[1;33m(\u001b[0m\u001b[0m_34\u001b[0m\u001b[1;33m)\u001b[0m\u001b[1;33m\u001b[0m\u001b[0m\n\u001b[0m",
        "\u001b[1;31mNameError\u001b[0m: name '_34' is not defined"
       ]
      }
     ],
     "prompt_number": 10
    },
    {
     "cell_type": "code",
     "collapsed": false,
     "input": [
      "l = Light('/head0', 10., 10.)"
     ],
     "language": "python",
     "metadata": {},
     "outputs": [],
     "prompt_number": 11
    },
    {
     "cell_type": "code",
     "collapsed": false,
     "input": [
      "spheres = []\n",
      "for i in range(13):\n",
      "    spheres.append(Sphere(i))"
     ],
     "language": "python",
     "metadata": {},
     "outputs": [],
     "prompt_number": 12
    },
    {
     "cell_type": "code",
     "collapsed": false,
     "input": [
      "%%timeit\n",
      "spheres[0].get_position()"
     ],
     "language": "python",
     "metadata": {},
     "outputs": [
      {
       "output_type": "stream",
       "stream": "stdout",
       "text": [
        "100000 loops, best of 3: 5.58 \u00b5s per loop\n"
       ]
      }
     ],
     "prompt_number": 11
    },
    {
     "cell_type": "code",
     "collapsed": false,
     "input": [
      "%%timeit\n",
      "spheres[0].set_color(0,0,0)"
     ],
     "language": "python",
     "metadata": {},
     "outputs": [
      {
       "output_type": "stream",
       "stream": "stdout",
       "text": [
        "1 loops, best of 3: 373 ms per loop\n"
       ]
      }
     ],
     "prompt_number": 12
    },
    {
     "cell_type": "code",
     "collapsed": false,
     "input": [
      "%%timeit\n",
      "spheres[0].set_color(0,0,0)"
     ],
     "language": "python",
     "metadata": {},
     "outputs": []
    },
    {
     "cell_type": "code",
     "collapsed": false,
     "input": [
      "%%timeit\n",
      "l.lightval(pos)"
     ],
     "language": "python",
     "metadata": {},
     "outputs": [
      {
       "output_type": "stream",
       "stream": "stdout",
       "text": [
        "10000 loops, best of 3: 147 \u00b5s per loop\n"
       ]
      }
     ],
     "prompt_number": 13
    },
    {
     "cell_type": "code",
     "collapsed": false,
     "input": [
      "for s in spheres:\n",
      "    s.set_color(100, 100, 100)"
     ],
     "language": "python",
     "metadata": {},
     "outputs": [],
     "prompt_number": 15
    },
    {
     "cell_type": "code",
     "collapsed": false,
     "input": [
      "while True:\n",
      "    for s in spheres:\n",
      "        pos = s.get_position()\n",
      "        lightval = l.lightval(pos)\n",
      "        color=10. * lightval\n",
      "        s.set_color(color, color, color)\n",
      "#     time.sleep(.01)\n",
      "    "
     ],
     "language": "python",
     "metadata": {},
     "outputs": []
    },
    {
     "cell_type": "code",
     "collapsed": false,
     "input": [],
     "language": "python",
     "metadata": {},
     "outputs": []
    }
   ],
   "metadata": {}
  }
 ]
}