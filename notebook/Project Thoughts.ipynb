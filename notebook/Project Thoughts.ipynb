{
 "metadata": {
  "name": "",
  "signature": "sha256:ac92375a783f31a720a340d13903a96c3bc9bbc7a77d1db89d0ecf52625d174b"
 },
 "nbformat": 3,
 "nbformat_minor": 0,
 "worksheets": [
  {
   "cells": [
    {
     "cell_type": "markdown",
     "metadata": {},
     "source": [
      "#### Starwhal Brief Summary:\n",
      "* robots are surrounded by light tags\n",
      "* any light detected by the light sensors increments negative points\n",
      "* Robots are allowed 1 flashlight to shine on opponent's robots\n",
      "* Robots are also allowed a line scan camera"
     ]
    },
    {
     "cell_type": "markdown",
     "metadata": {},
     "source": [
      "#### Capabilities required to play game:\n",
      "* Light tags working\n",
      "* steerable flashlight\n",
      "* "
     ]
    },
    {
     "cell_type": "markdown",
     "metadata": {},
     "source": [
      "First got Simple Point Illumination working with a simple conical model for flashlight ray"
     ]
    },
    {
     "cell_type": "markdown",
     "metadata": {},
     "source": [
      "## Twitch Plays Starwhal\n",
      "Hypothesis: Literate programming is suited for teaching students programming.\n",
      "\n",
      "Design choices:\n",
      "* Simulation instead of working on real hardware:\n",
      "    * Easier to iterate, proven to be compatible with literate programming tools.\n",
      "* Starwhal game\n",
      "    * sensor-heavy game.\n",
      "* Twitch Plays\n",
      "    * for fun"
     ]
    },
    {
     "cell_type": "markdown",
     "metadata": {},
     "source": [
      "##### TODO\n",
      "* forum post on V-REP forums asking about having multiple python processes interact with simulation\n",
      "* means of communication... python to embedded script only uses Signals. Signals seem to take 100ms to transmit...\n",
      "    * vrep lcm?\n",
      "    * Now it seems to me that this doesn't matter at all.. we don't require any ROS --> embedded script communication\n",
      "* take video of the light demo"
     ]
    },
    {
     "cell_type": "code",
     "collapsed": false,
     "input": [],
     "language": "python",
     "metadata": {},
     "outputs": []
    }
   ],
   "metadata": {}
  }
 ]
}