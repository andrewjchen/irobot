{
 "metadata": {
  "name": "",
  "signature": "sha256:a2c6bbd4ebc47943f0e199a15f49ca87e23190166b5fa1de16922d4f487887a4"
 },
 "nbformat": 3,
 "nbformat_minor": 0,
 "worksheets": [
  {
   "cells": [
    {
     "cell_type": "code",
     "collapsed": false,
     "input": [
      "# Cross-notebook include shim\n",
      "with open(\"nbinclude.ipynb\") as nbinclude_f: # don't rename nbinclude_f\n",
      "    import IPython.nbformat.current\n",
      "    get_ipython().run_cell(IPython.nbformat.current.read(nbinclude_f, 'json').worksheets[0].cells[0].input)"
     ],
     "language": "python",
     "metadata": {},
     "outputs": [],
     "prompt_number": 30
    },
    {
     "cell_type": "heading",
     "level": 3,
     "metadata": {},
     "source": [
      "Motor"
     ]
    },
    {
     "cell_type": "code",
     "collapsed": false,
     "input": [
      "class Motor(object):\n",
      "    def __init__(self):\n",
      "        self._throttle = 0\n",
      "\n",
      "    @property\n",
      "    def throttle(self):\n",
      "        return self._throttle\n",
      "\n",
      "    @throttle.setter\n",
      "    def throttle(self, value):\n",
      "        self._throttle = value"
     ],
     "language": "python",
     "metadata": {},
     "outputs": [],
     "prompt_number": 1
    },
    {
     "cell_type": "code",
     "collapsed": false,
     "input": [
      "m = Motor()"
     ],
     "language": "python",
     "metadata": {},
     "outputs": [],
     "prompt_number": 2
    },
    {
     "cell_type": "code",
     "collapsed": false,
     "input": [
      "m.throttle"
     ],
     "language": "python",
     "metadata": {},
     "outputs": [
      {
       "metadata": {},
       "output_type": "pyout",
       "prompt_number": 3,
       "text": [
        "0"
       ]
      }
     ],
     "prompt_number": 3
    },
    {
     "cell_type": "code",
     "collapsed": false,
     "input": [
      "m.throttle = 30"
     ],
     "language": "python",
     "metadata": {},
     "outputs": [],
     "prompt_number": 4
    },
    {
     "cell_type": "code",
     "collapsed": false,
     "input": [
      "m.throttle"
     ],
     "language": "python",
     "metadata": {},
     "outputs": [
      {
       "metadata": {},
       "output_type": "pyout",
       "prompt_number": 5,
       "text": [
        "30"
       ]
      }
     ],
     "prompt_number": 5
    },
    {
     "cell_type": "heading",
     "level": 3,
     "metadata": {},
     "source": [
      "Line Scan Camera"
     ]
    },
    {
     "cell_type": "code",
     "collapsed": false,
     "input": [
      "%matplotlib inline\n",
      "import numpy as np\n",
      "import matplotlib.pyplot as plt\n",
      "class LineScanCamera(object):\n",
      "    def __init__(self):\n",
      "        self._image = np.zeros(128)\n",
      "\n",
      "    @property\n",
      "    def image(self):\n",
      "        return self._image"
     ],
     "language": "python",
     "metadata": {},
     "outputs": [],
     "prompt_number": 20
    },
    {
     "cell_type": "code",
     "collapsed": false,
     "input": [
      "cam = LineScanCamera()"
     ],
     "language": "python",
     "metadata": {},
     "outputs": [],
     "prompt_number": 15
    },
    {
     "cell_type": "code",
     "collapsed": false,
     "input": [
      "plt.plot(cam.image)"
     ],
     "language": "python",
     "metadata": {},
     "outputs": [
      {
       "metadata": {},
       "output_type": "pyout",
       "prompt_number": 16,
       "text": [
        "[<matplotlib.lines.Line2D at 0x7f024ec77d10>]"
       ]
      },
      {
       "metadata": {},
       "output_type": "display_data",
       "png": "[encoded data removed]",
       "text": [
        "<matplotlib.figure.Figure at 0x7f024edf3e50>"
       ]
      }
     ],
     "prompt_number": 16
    },
    {
     "cell_type": "heading",
     "level": 3,
     "metadata": {},
     "source": [
      "Servo"
     ]
    },
    {
     "cell_type": "code",
     "collapsed": false,
     "input": [
      "class Servo(object):\n",
      "    def __init__(self):\n",
      "        self._position = 0\n",
      "        self._velocity = 0\n",
      "\n",
      "    @property\n",
      "    def position(self):\n",
      "        return self._position\n",
      "\n",
      "    @position.setter\n",
      "    def position(self, value):\n",
      "        self._position = value\n",
      "        \n",
      "    @property\n",
      "    def velocity(self):\n",
      "        return self._velocity\n",
      "\n",
      "    @velocity.setter\n",
      "    def velocity(self, value):\n",
      "        self._velocity = value"
     ],
     "language": "python",
     "metadata": {},
     "outputs": [],
     "prompt_number": 21
    },
    {
     "cell_type": "code",
     "collapsed": false,
     "input": [
      "s = Servo()"
     ],
     "language": "python",
     "metadata": {},
     "outputs": [],
     "prompt_number": 22
    },
    {
     "cell_type": "code",
     "collapsed": false,
     "input": [
      "s.position"
     ],
     "language": "python",
     "metadata": {},
     "outputs": [
      {
       "metadata": {},
       "output_type": "pyout",
       "prompt_number": 23,
       "text": [
        "0"
       ]
      }
     ],
     "prompt_number": 23
    },
    {
     "cell_type": "code",
     "collapsed": false,
     "input": [
      "s.position = 180"
     ],
     "language": "python",
     "metadata": {},
     "outputs": [],
     "prompt_number": 24
    },
    {
     "cell_type": "code",
     "collapsed": false,
     "input": [
      "s.position"
     ],
     "language": "python",
     "metadata": {},
     "outputs": [
      {
       "metadata": {},
       "output_type": "pyout",
       "prompt_number": 25,
       "text": [
        "180"
       ]
      }
     ],
     "prompt_number": 25
    },
    {
     "cell_type": "code",
     "collapsed": false,
     "input": [
      "s.velocity"
     ],
     "language": "python",
     "metadata": {},
     "outputs": [
      {
       "metadata": {},
       "output_type": "pyout",
       "prompt_number": 27,
       "text": [
        "0"
       ]
      }
     ],
     "prompt_number": 27
    },
    {
     "cell_type": "code",
     "collapsed": false,
     "input": [
      "s.velocity = 3"
     ],
     "language": "python",
     "metadata": {},
     "outputs": [],
     "prompt_number": 28
    },
    {
     "cell_type": "code",
     "collapsed": false,
     "input": [
      "s.velocity"
     ],
     "language": "python",
     "metadata": {},
     "outputs": [
      {
       "metadata": {},
       "output_type": "pyout",
       "prompt_number": 29,
       "text": [
        "3"
       ]
      }
     ],
     "prompt_number": 29
    },
    {
     "cell_type": "heading",
     "level": 3,
     "metadata": {},
     "source": [
      "Light Sensor"
     ]
    },
    {
     "cell_type": "code",
     "collapsed": false,
     "input": [
      "class LightSensor(object):\n",
      "    def __init__(self):\n",
      "        self._light_value = 0\n",
      "\n",
      "    @property\n",
      "    def light_value(self):\n",
      "        return self._light_value"
     ],
     "language": "python",
     "metadata": {},
     "outputs": [],
     "prompt_number": 46
    },
    {
     "cell_type": "code",
     "collapsed": false,
     "input": [
      "l = LightSensor()"
     ],
     "language": "python",
     "metadata": {},
     "outputs": [],
     "prompt_number": 44
    },
    {
     "cell_type": "code",
     "collapsed": false,
     "input": [
      "l.light_value"
     ],
     "language": "python",
     "metadata": {},
     "outputs": [
      {
       "metadata": {},
       "output_type": "pyout",
       "prompt_number": 45,
       "text": [
        "0"
       ]
      }
     ],
     "prompt_number": 45
    },
    {
     "cell_type": "heading",
     "level": 3,
     "metadata": {},
     "source": [
      "Flashlight"
     ]
    },
    {
     "cell_type": "code",
     "collapsed": false,
     "input": [
      "class Flashlight(object):\n",
      "    def __init__(self):\n",
      "        self._brightness = 0\n",
      "\n",
      "    @property\n",
      "    def brightness(self):\n",
      "        return self._brightness\n",
      "\n",
      "    @brightness.setter\n",
      "    def brightness(self, value):\n",
      "        self._brightness = value"
     ],
     "language": "python",
     "metadata": {},
     "outputs": []
    }
   ],
   "metadata": {}
  }
 ]
}