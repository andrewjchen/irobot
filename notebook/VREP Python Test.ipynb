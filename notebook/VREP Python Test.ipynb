{
 "metadata": {
  "name": "",
  "signature": "sha256:beddc923977506e93b0d2bac92230240e50a0e0a1cef3342c381150a22d0d5fe"
 },
 "nbformat": 3,
 "nbformat_minor": 0,
 "worksheets": [
  {
   "cells": [
    {
     "cell_type": "code",
     "collapsed": false,
     "input": [
      "# Copyright 2006-2014 Coppelia Robotics GmbH. All rights reserved.\n",
      "# marc@coppeliarobotics.com\n",
      "# www.coppeliarobotics.com\n",
      "# \n",
      "# -------------------------------------------------------------------\n",
      "# THIS FILE IS DISTRIBUTED \"AS IS\", WITHOUT ANY EXPRESS OR IMPLIED\n",
      "# WARRANTY. THE USER WILL USE IT AT HIS/HER OWN RISK. THE ORIGINAL\n",
      "# AUTHORS AND COPPELIA ROBOTICS GMBH WILL NOT BE LIABLE FOR DATA LOSS,\n",
      "# DAMAGES, LOSS OF PROFITS OR ANY OTHER KIND OF LOSS WHILE USING OR\n",
      "# MISUSING THIS SOFTWARE.\n",
      "# \n",
      "# You are free to use/modify/distribute this file for whatever purpose!\n",
      "# -------------------------------------------------------------------\n",
      "#\n",
      "# This file was automatically created for V-REP release V3.2.0 on Feb. 3rd 2015\n",
      "\n",
      "# Make sure to have the server side running in V-REP: \n",
      "# in a child script of a V-REP scene, add following command\n",
      "# to be executed just once, at simulation start:\n",
      "#\n",
      "# simExtRemoteApiStart(19999)\n",
      "#\n",
      "# then start simulation, and run this program.\n",
      "#\n",
      "# IMPORTANT: for each successful call to simxStart, there\n",
      "# should be a corresponding call to simxFinish at the end!"
     ],
     "language": "python",
     "metadata": {},
     "outputs": []
    },
    {
     "cell_type": "code",
     "collapsed": false,
     "input": [
      "import vrep\n",
      "\n",
      "print ('Program started')\n",
      "vrep.simxFinish(-1) # just in case, close all opened connections\n",
      "clientID=vrep.simxStart('127.0.0.1',19997,True,True,5000,5)\n",
      "clientID"
     ],
     "language": "python",
     "metadata": {},
     "outputs": [
      {
       "output_type": "stream",
       "stream": "stdout",
       "text": [
        "Program started\n"
       ]
      },
      {
       "metadata": {},
       "output_type": "pyout",
       "prompt_number": 1,
       "text": [
        "0"
       ]
      }
     ],
     "prompt_number": 1
    },
    {
     "cell_type": "code",
     "collapsed": false,
     "input": [
      "res,objs=vrep.simxGetObjects(clientID,\n",
      "                             vrep.sim_handle_all,\n",
      "                             vrep.simx_opmode_oneshot_wait)\n",
      "res, objs"
     ],
     "language": "python",
     "metadata": {},
     "outputs": [
      {
       "metadata": {},
       "output_type": "pyout",
       "prompt_number": 5,
       "text": [
        "(0,\n",
        " [0,\n",
        "  1,\n",
        "  2,\n",
        "  3,\n",
        "  4,\n",
        "  5,\n",
        "  6,\n",
        "  7,\n",
        "  8,\n",
        "  9,\n",
        "  10,\n",
        "  11,\n",
        "  12,\n",
        "  13,\n",
        "  14,\n",
        "  15,\n",
        "  16,\n",
        "  17,\n",
        "  18,\n",
        "  19,\n",
        "  20,\n",
        "  21,\n",
        "  22,\n",
        "  23,\n",
        "  24,\n",
        "  25,\n",
        "  26,\n",
        "  27,\n",
        "  28,\n",
        "  29,\n",
        "  30,\n",
        "  31,\n",
        "  32,\n",
        "  33,\n",
        "  34,\n",
        "  35,\n",
        "  36,\n",
        "  37,\n",
        "  38,\n",
        "  39,\n",
        "  40,\n",
        "  41,\n",
        "  42,\n",
        "  43,\n",
        "  44,\n",
        "  45,\n",
        "  46])"
       ]
      }
     ],
     "prompt_number": 5
    },
    {
     "cell_type": "code",
     "collapsed": false,
     "input": [],
     "language": "python",
     "metadata": {},
     "outputs": []
    },
    {
     "cell_type": "code",
     "collapsed": false,
     "input": [],
     "language": "python",
     "metadata": {},
     "outputs": [
      {
       "output_type": "stream",
       "stream": "stdout",
       "text": [
        "Program started\n",
        "Connected to remote API server\n",
        "('Number of objects in the scene: ', 47)"
       ]
      },
      {
       "output_type": "stream",
       "stream": "stdout",
       "text": [
        "\n",
        "Program ended"
       ]
      },
      {
       "output_type": "stream",
       "stream": "stdout",
       "text": [
        "\n"
       ]
      }
     ],
     "prompt_number": 4
    },
    {
     "cell_type": "code",
     "collapsed": false,
     "input": [],
     "language": "python",
     "metadata": {},
     "outputs": []
    }
   ],
   "metadata": {}
  }
 ]
}